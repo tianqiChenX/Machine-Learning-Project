{
  "cells": [
    {
      "cell_type": "code",
      "execution_count": null,
      "metadata": {
        "id": "YMSsKHC8AAjq"
      },
      "outputs": [],
      "source": [
        "import matplotlib\n",
        "import matplotlib.pyplot as plt \n",
        "%matplotlib inline\n",
        "import pandas as pd \n",
        "import numpy as np\n",
        "import seaborn as sns\n",
        "\n",
        "from sklearn.model_selection import train_test_split, cross_val_score\n",
        "from sklearn.pipeline import Pipeline\n",
        "from sklearn.linear_model import LinearRegression, Lasso, Ridge, LogisticRegression\n",
        "from sklearn.svm import LinearSVC\n",
        "from sklearn.preprocessing import PolynomialFeatures, StandardScaler\n",
        "from sklearn.metrics import make_scorer, mean_absolute_error, r2_score, accuracy_score, precision_score\n",
        "\n",
        "np.random.seed(42)"
      ]
    },
    {
      "cell_type": "markdown",
      "metadata": {
        "id": "6QVsGck9AKsk"
      },
      "source": [
        "## Data set \n",
        "\n",
        "This project's objective is to develop a data-driven predictive model for the power consumption of an industrial refrigeration system using the `Data_Rack01` dataset.  \n",
        "The data frame contains the following data, where each row represents a datapoint:\n",
        "\n",
        "- Dew_Point: the temperature to which air must be cooled to become saturated with water vapor \n",
        "- Indoor_Humidity: The indoor Humidity\n",
        "- Indoor_Temperature: The indoor temprature (Fahrenheit)\n",
        "- Outdoor_Humidity: The outdoor humidity\n",
        "- Outdoor_Temperature: The outdoor temprature (Fahrenheit)\n",
        "- Discharge_Pressure: The pressure generated on the output side of a gas compressor in a refrigeration system\n",
        "- Discharge_Temperature: The compressor's discharge temperature \n",
        "- KW: Power consumed\n",
        "- Power_Factor: The power factor of the refrigeration system\n",
        "- Volts_Line_to_Line\n",
        "- Volts_Line_to_Neutral"
      ]
    },
    {
      "cell_type": "markdown",
      "metadata": {
        "id": "WYC_VhLLAiDJ"
      },
      "source": [
        "### a) Preprocess the data acording to the following:\n",
        "\n",
        "1. Load data into a variable called myData\n",
        "2. In the `myPreProc` function perform the following:\n",
        "  - Remove the empty column(s), \n",
        "  - Drop rows with any missing data (\"NA\").\n",
        "  - Remove the 'DeviceName' column as well\n",
        "\n",
        "The processed data should be returned through the function variable `procData`\n",
        "\n",
        "### b) Define two loss functions:\n",
        "- one that measures the absolute difference between observations and predictions. Return mean and standard deviation of the result.\n",
        "- one that finds the absolute difference that is less than or equal to a threshold. Return mean and standard deviation of the result.\n",
        "\n",
        "### c) Data splitting:\n",
        "- Use power consumption as the target variable for your machine learning model. \n",
        "- Split your preprocessed dataset by setting aside some amount of data for testing, and retaining the rest for training. Reserve 30 percent of your data for testing. *Make sure to set the random_state to 42 if you are using an sklearn function to accomplish this. \n",
        "\n",
        "\n",
        "### d) Build a linear regression model:\n",
        "- Using Ordinary Least Squares, build a model to predict power consumed (KW) as a `linear function` of the other variables (features) in the dataset. In order to properly build the regression model, the features need to be standardized so that no feature can dominate others in determining the prediction values due to differences in feature scales. Build the pipeline that standardizes the features and creates a linear regression model.\n",
        "- Report the coefficient of determination (`R2 score`) when evaluating both the training and testing performance of your model."
      ]
    },
    {
      "cell_type": "code",
      "execution_count": null,
      "metadata": {
        "id": "idO1fKVYAS2T"
      },
      "outputs": [],
      "source": [
        "#Part 1a\n",
        "\n",
        "#load data\n",
        "df = pd.read_csv('Data_Rack01.csv')\n",
        "myData = pd.DataFrame(df)\n",
        "\n",
        "def myPreProc(data):\n",
        "\n",
        "  #remove empty columns\n",
        "  data.dropna(how=\"all\", axis=1, inplace=True)\n",
        "\n",
        "  #drop rows with any missing data.\n",
        "  data.dropna(how=\"all\", axis=0, inplace=True)\n",
        "\n",
        "  #remove the 'DeviceName' column\n",
        "  data.drop('DeviceName', axis=1, inplace=True)\n",
        "\n",
        "  procData = data\n",
        "\n",
        "  return procData"
      ]
    },
    {
      "cell_type": "code",
      "execution_count": null,
      "metadata": {
        "id": "lz5d_U-mDRmL"
      },
      "outputs": [],
      "source": [
        "#Part 1b\n",
        "\n",
        "def abs_diff_loss(obs, pred):\n",
        "    \n",
        "    resids = abs(obs-pred)\n",
        "\n",
        "    return resids.mean(), resids.std(ddof=1)\n",
        "    \n",
        "def threshold_loss(obs, pred, thresh):\n",
        "    \n",
        "    if abs(obs-pred) <= thresh : resids = abs(obs-pred)\n",
        "    \n",
        "    return resids.mean(), resids.std(ddof=1)"
      ]
    },
    {
      "cell_type": "code",
      "execution_count": null,
      "metadata": {
        "id": "U8Du1o0UEs4D",
        "colab": {
          "base_uri": "https://localhost:8080/"
        },
        "outputId": "7660ade8-8176-4b24-9f03-b38398e75e53"
      },
      "outputs": [
        {
          "output_type": "stream",
          "name": "stdout",
          "text": [
            "(18025, 9)\n",
            "(25751, 9)\n",
            "(7726, 9)\n"
          ]
        }
      ],
      "source": [
        "#Part 1c\n",
        "\n",
        "myPreProc(myData)\n",
        "\n",
        "#Set power consumed variable to be the target varibale\n",
        "X = myData.drop('kW', axis=1).values\n",
        "y = myData['kW'].values\n",
        "\n",
        "#Train_test_split\n",
        "X_train, X_test, y_train, y_test = train_test_split(X, y, test_size = 0.3, random_state=42, shuffle=True)\n",
        "\n",
        "# display(y)\n",
        "print(X_train.shape)\n",
        "print(X.shape)\n",
        "print(X_test.shape)"
      ]
    },
    {
      "cell_type": "code",
      "execution_count": null,
      "metadata": {
        "id": "AatCUdd2FuRh",
        "colab": {
          "base_uri": "https://localhost:8080/"
        },
        "outputId": "fc3125c9-39e4-4c1c-cebc-8cb6de90fae6"
      },
      "outputs": [
        {
          "output_type": "stream",
          "name": "stdout",
          "text": [
            "R2 Socre is 0.4240761933328049\n"
          ]
        }
      ],
      "source": [
        "#Part 1d\n",
        "estimator_linear = [('scaler', StandardScaler()), \n",
        "                    ('linearRegression', LinearRegression())]\n",
        "pipe_linear = Pipeline(estimator_linear)\n",
        "pipe_linear.fit(X_train, y_train)\n",
        "y_pred = pipe_linear.predict(X_test)\n",
        "score = pipe_linear.score(X_test, y_test)\n",
        "print(\"R2 Socre is\", score)"
      ]
    },
    {
      "cell_type": "markdown",
      "metadata": {
        "id": "Mb3j8_AZYfrS"
      },
      "source": [
        "- Use L2 regularization by adding a penalty of $\\lambda \\sum_{i}{\\beta_i^2}$ (where $\\beta_i$ are your regression coefficients) to the regression model. Vary the regularization parameter $\\lambda$ between 0.2 and 250, evenly spaced in log-space, and generate 50 values. \n",
        "- Build the pipeline that standardizes the features and create a regularized regression model.\n",
        "- Determine the 10-fold crossvalidated performance for different values of the L2-regularization parameters. Use the cross-validated R-Squared (R2) of the data under the model as evaluation criterion.  \n",
        "- Make a plot of the cross-validated R-Squared (R2) against $log(\\lambda)$. \n",
        "- Report the best lambda that you found"
      ]
    },
    {
      "cell_type": "code",
      "execution_count": null,
      "metadata": {
        "id": "am8hubQ4YfrS"
      },
      "outputs": [],
      "source": [
        "para_space = np.logspace(np.log10(0.2), np.log10(250), num=50)\n",
        "\n",
        "r2_score_list = []\n",
        "for i in para_space:\n",
        "  estimator_ridge = [('scaler', StandardScaler()),\n",
        "                   ('ridge', Ridge(alpha=i))]\n",
        "  pipe_ridge = Pipeline(estimator_ridge)                \n",
        "  pipe_ridge.fit(X_train, y_train)\n",
        "  r2_score = cross_val_score(pipe_ridge, X_train, y_train, cv=10)\n",
        "  r2_score_list.append(r2_score.mean())"
      ]
    },
    {
      "cell_type": "code",
      "source": [
        "x_axis = np.log10(para_space)\n",
        "y_axis = r2_score_list\n",
        "\n",
        "f = plt.figure()\n",
        "f.set_figwidth(15)\n",
        "f.set_figheight(5)\n",
        "\n",
        "plt.plot(x_axis, y_axis)\n",
        "\n",
        "plt.xlabel(\"Log of lambda\")\n",
        "plt.ylabel(\"R-Squared\")\n",
        "\n",
        "plt.title(\"Cross-validated R-Squared vs log(lambda)\")\n",
        "\n",
        "plt.show()"
      ],
      "metadata": {
        "colab": {
          "base_uri": "https://localhost:8080/",
          "height": 350
        },
        "id": "Lwe29XKveLNN",
        "outputId": "8cd29e2d-e923-4d76-8e1e-90a9ee10146c"
      },
      "execution_count": null,
      "outputs": [
        {
          "output_type": "display_data",
          "data": {
            "text/plain": [
              "<Figure size 1080x360 with 1 Axes>"
            ],
            "image/png": "[encoded data removed]"
          },
          "metadata": {
            "needs_background": "light"
          }
        }
      ]
    },
    {
      "cell_type": "code",
      "source": [
        "print(\"The best value of lambda found is\", np.min(para_space))\n",
        "print(\"Corresponding value of R Squared is\", np.max(r2_score_list))"
      ],
      "metadata": {
        "colab": {
          "base_uri": "https://localhost:8080/"
        },
        "id": "sxIbdjL8H16u",
        "outputId": "d2c36fa0-180c-4ff4-cd94-e73ac5c97dcd"
      },
      "execution_count": null,
      "outputs": [
        {
          "output_type": "stream",
          "name": "stdout",
          "text": [
            "The best value of lambda found is 0.20000000000000004\n",
            "Corresponding value of R Squared is 0.41756297281571086\n"
          ]
        }
      ]
    },
    {
      "cell_type": "markdown",
      "metadata": {
        "id": "EKJyCvu4LC6u"
      },
      "source": [
        "### a) Binary target:\n",
        "- Convert your target variable in the dataset into a binary variable using >= mean thresholding (use the same data splitting as before). \n",
        "\n",
        "### b) Build logistic regression model:\n",
        "- Define a Logistic Regression model and report the resulting *training* precision and *testing* accuracy of your model. Make sure the set the maximum number of iterations for your model to 10000 (use pipeline for normalization and model building same as Questions 1 and 2).\n",
        "\n",
        "### c) Build a Support Vector Machine (SVM) model:\n",
        "- Define a linear SVM model with default options and maximum number of iterations 10000. Report the resulting *training* precision and *testing* accuracy of your model (use pipeline for normalization and model building same as Questions 1 and 2).\n",
        "\n",
        "\n",
        "### d) Comparison:\n",
        "- Compare the performance of your models in `b` and `c` in terms of generalization performance and execution time, what do you conclude? "
      ]
    },
    {
      "cell_type": "code",
      "execution_count": null,
      "metadata": {
        "id": "s0NJeac3-b_5",
        "colab": {
          "base_uri": "https://localhost:8080/"
        },
        "outputId": "9edced0b-c24b-45f2-8297-9c67d544b498"
      },
      "outputs": [
        {
          "output_type": "stream",
          "name": "stdout",
          "text": [
            "94.12388349514563\n",
            "[0. 1. 0. ... 1. 0. 1.]\n",
            "[0. 1. 1. ... 0. 1. 0.]\n"
          ]
        }
      ],
      "source": [
        "#Part 3a\n",
        "y_train_mean = y_train.mean()\n",
        "print(y_train_mean)\n",
        "\n",
        "#training\n",
        "y_train_new = np.copy(y_train)\n",
        "y_train_new[y_train_new < y_train_mean] = 0\n",
        "y_train_new[y_train_new >= y_train_mean] = 1\n",
        "print(y_train_new)\n",
        "\n",
        "#testing\n",
        "y_test_new = np.copy(y_test)\n",
        "y_test_new[y_test_new < y_train_mean] = 0\n",
        "y_test_new[y_test_new >= y_train_mean] = 1\n",
        "print(y_test_new)"
      ]
    },
    {
      "cell_type": "code",
      "execution_count": null,
      "metadata": {
        "id": "55duLbGZM8dv",
        "colab": {
          "base_uri": "https://localhost:8080/"
        },
        "outputId": "9995a664-5c8f-463e-f112-d22774b333f9"
      },
      "outputs": [
        {
          "output_type": "stream",
          "name": "stdout",
          "text": [
            "Training Precision score for Logistic Regression is 0.804956988331488\n",
            "Testing Accuracy score for Logistic Regression is 0.8020968159461558\n"
          ]
        }
      ],
      "source": [
        "#Part 3b\n",
        "estimator_logistic = [('scaler', StandardScaler()), \n",
        "                      ('logistic', LogisticRegression(max_iter=10000))]\n",
        "pipe_logistic = Pipeline(estimator_logistic)\n",
        "pipe_logistic.fit(X_train, y_train_new)\n",
        "\n",
        "# Calculate the predicted value for training and test dataset\n",
        "y_train_pred = pipe_logistic.predict(X_train)\n",
        "y_test_pred = pipe_logistic.predict(X_test)\n",
        "\n",
        "training_precision = precision_score(y_train_new, y_train_pred)\n",
        "testing_accuracy = accuracy_score(y_test_new, y_test_pred)\n",
        "print(\"Training Precision score for Logistic Regression is\", training_precision)\n",
        "print(\"Testing Accuracy score for Logistic Regression is\", testing_accuracy)"
      ]
    },
    {
      "cell_type": "code",
      "execution_count": null,
      "metadata": {
        "id": "-aXeyzzIYfrV",
        "colab": {
          "base_uri": "https://localhost:8080/"
        },
        "outputId": "e74caf9d-68d1-4169-e76b-eb2bad93fd49"
      },
      "outputs": [
        {
          "output_type": "stream",
          "name": "stdout",
          "text": [
            "Training Precision score for LinearSVM is 0.7838938197215211\n",
            "Testing Accuracy score for LinearSVM is 0.7881180429717836\n"
          ]
        }
      ],
      "source": [
        "#Part 3c\n",
        "estimator_svc = [('scaler', StandardScaler()), \n",
        "                 ('svc', LinearSVC(max_iter=10000))]\n",
        "pipe_svc = Pipeline(estimator_svc)\n",
        "pipe_svc.fit(X_train, y_train_new)\n",
        "\n",
        "# Calculate the predicted value for training and test dataset\n",
        "y_train_pred = pipe_svc.predict(X_train)\n",
        "y_test_pred = pipe_svc.predict(X_test)\n",
        "\n",
        "training_precision = precision_score(y_train_new, y_train_pred)\n",
        "testing_accuracy = accuracy_score(y_test_new, y_test_pred)\n",
        "print(\"Training Precision score for LinearSVC is\", training_precision)\n",
        "print(\"Testing Accuracy score for LinearSVC is\", testing_accuracy)"
      ]
    },
    {
      "cell_type": "markdown",
      "metadata": {
        "id": "o6zvEngEYfrV"
      },
      "source": [
        "*Part 3d*\n"
      ]
    },
    {
      "cell_type": "markdown",
      "source": [
        "Training precision measures the accuracy of the model's predictions on the training data. It reflects how well the model fits the training data. \n",
        "\n",
        "Testing accuracy measures the accuracy of the model's predictions on the testing data. It reflects the model's ability to generalize to new data.\n",
        "\n",
        "Speaking of two models above, there is only small difference between the training precision and testing accuracy, which indicates that these two models have a good generalization performance."
      ],
      "metadata": {
        "id": "z4N4qZqXK_SN"
      }
    },
    {
      "cell_type": "markdown",
      "source": [
        "As observed, LinearSVC takes longer execution time than Logistic Regression. It is because LinearSVC solves the optimization problem using the \"one-vs-one\" or \"one-vs-the-rest\" technique, where multiple binary classification problems are solved to determine the final class prediction.\n",
        "\n",
        "On the other hand, Logistic Regression solves the problem by using maximum likelihood estimation, which is obviously simpler than LinearSVC."
      ],
      "metadata": {
        "id": "y6H6XyIXNNqP"
      }
    }
  ],
  "metadata": {
    "colab": {
      "provenance": []
    },
    "kernelspec": {
      "display_name": "Python 3",
      "language": "python",
      "name": "python3"
    },
    "language_info": {
      "codemirror_mode": {
        "name": "ipython",
        "version": 3
      },
      "file_extension": ".py",
      "mimetype": "text/x-python",
      "name": "python",
      "nbconvert_exporter": "python",
      "pygments_lexer": "ipython3",
      "version": "3.6.8"
    }
  },
  "nbformat": 4,
  "nbformat_minor": 0
}